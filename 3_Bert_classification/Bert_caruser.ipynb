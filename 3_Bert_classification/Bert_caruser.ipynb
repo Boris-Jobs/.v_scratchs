{
 "cells": [
  {
   "metadata": {},
   "cell_type": "markdown",
   "source": "# 第一步: 准备配置: 数据集, 模型, 训练参数",
   "id": "9d967c83fb820861"
  },
  {
   "metadata": {
    "ExecuteTime": {
     "end_time": "2024-09-30T10:06:44.493946Z",
     "start_time": "2024-09-30T10:06:44.454907Z"
    }
   },
   "cell_type": "code",
   "source": [
    "import torch\n",
    "from transformers import BertTokenizer\n",
    "\n",
    "class Config(object):\n",
    "    def __init__(self, dataset):\n",
    "        self.model_name = 'bert'\n",
    "        self.train_path = '../data/caruser/train.txt'\n",
    "        self.test_path = '../data/caruser/test.txt'\n",
    "        self.val_path = '../data/caruser/val.txt'\n",
    "        self.save_path = '/saved_dict/' + self.model_name + '.ckpt'\n",
    "        self.device = torch.device('cuda' if torch.cuda.is_available() else 'cpu')\n",
    "        self.require_improvement = 1000\n",
    "        self.num_epochs = 3\n",
    "        self.batch_size = 128\n",
    "        self.learning_rate = 5e-5\n",
    "        self.bert_path = './bert-base-chinese'\n",
    "        self.tokenizer = BertTokenizer.from_pretrained(self.bert_path)\n",
    "        self.hidden_size = 768 "
   ],
   "id": "initial_id",
   "outputs": [],
   "execution_count": 8
  },
  {
   "metadata": {},
   "cell_type": "markdown",
   "source": "# 第二步: 定义模型",
   "id": "2bc1d33dc49d4135"
  },
  {
   "metadata": {
    "ExecuteTime": {
     "end_time": "2024-09-30T10:06:44.523711Z",
     "start_time": "2024-09-30T10:06:44.501949Z"
    }
   },
   "cell_type": "code",
   "source": [
    "from torch import nn\n",
    "from transformers import BertModel\n",
    "from torchviz import make_dot\n",
    "\n",
    "class Model(nn.Module):\n",
    "\n",
    "    def __init__(self, config):\n",
    "        super(Model, self).__init__()\n",
    "        self.bert = BertModel.from_pretrained(config.bert_path)\n",
    "        for name, param in self.bert.named_parameters():\n",
    "            param.requires_grad = True\n",
    "        self.topic_fc = nn.Linear(config.hidden_size, 10)\n",
    "        self.emo_fc = nn.Linear(config.hidden_size, 3)\n",
    "\n",
    "\n",
    "    def forward(self, x):\n",
    "        context = x[0]\n",
    "        mask = x[2]\n",
    "\n",
    "        outputs = self.bert(context, attention_mask=mask)\n",
    "        pooled = outputs.pooler_output\n",
    "        topic_out = self.topic_fc(pooled)\n",
    "        emo_out = self.emo_fc(pooled)\n",
    "        make_dot(outputs, params=dict(self.named_parameters())).render(\"bert_model\", format=\"pdf\")\n",
    "        return topic_out, emo_out"
   ],
   "id": "b2ff156c2417e077",
   "outputs": [],
   "execution_count": 9
  },
  {
   "metadata": {},
   "cell_type": "markdown",
   "source": "# 第三步: 处理数据",
   "id": "270dcc089a47ae23"
  },
  {
   "metadata": {
    "ExecuteTime": {
     "end_time": "2024-09-30T10:06:44.545247Z",
     "start_time": "2024-09-30T10:06:44.523711Z"
    }
   },
   "cell_type": "code",
   "source": [
    "from tqdm import tqdm\n",
    "\n",
    "\n",
    "def build_dataset(config):\n",
    "    def load_dataset(path, pad_size=32):\n",
    "        contents = []\n",
    "        with open(path, \"r\", encoding=\"UTF-8\") as f:\n",
    "            for line in tqdm(f):\n",
    "                lin = line.strip()\n",
    "                if not lin:\n",
    "                    continue\n",
    "                content, *labels = lin.split(\"\\t\")\n",
    "                token = config.tokenizer.tokenize(content)\n",
    "                token = [\"[CLS]\"] + token\n",
    "                seq_len = len(token)\n",
    "                token_ids = config.tokenizer.convert_tokens_to_ids(token)\n",
    "\n",
    "                topic_list = [\"操控\", \"内饰\", \"安全性\", \"空间\", \"舒适性\", \"外观\", \"动力\", \"价格\", \"配置\", \"油耗\"]\n",
    "                topic_labels = [0] * len(topic_list)\n",
    "                emotion_score_val = 0\n",
    "                for label in labels:\n",
    "                    topic, score = label.split(\"#\")\n",
    "                    if topic in topic_list:\n",
    "                        topic_labels[topic_list.index(topic)] = 1\n",
    "                        emotion_score_val += int(score)  # 累加情感分数\n",
    "                emotion_score = [1, 0, 0] if emotion_score_val < 0 else ([0, 1, 0] if emotion_score_val == 0 else [0, 0, 1])\n",
    "                \n",
    "                # 填充 token_ids 和 mask\n",
    "                if len(token_ids) < pad_size:\n",
    "                    token_ids += [0] * (pad_size - len(token_ids))  # 填充到 pad_size\n",
    "                    mask = [1] * len(token_ids) + [0] * (\n",
    "                        pad_size - len(token_ids)\n",
    "                    )  # mask 也要填充\n",
    "                else:\n",
    "                    token_ids = token_ids[:pad_size]  # 截断到 pad_size\n",
    "                    mask = [1] * pad_size  # mask 长度固定为 pad_size\n",
    "                    seq_len = pad_size\n",
    "\n",
    "                contents.append((token_ids, seq_len, mask, topic_labels, emotion_score))\n",
    "        return contents\n",
    "\n",
    "    train = load_dataset(config.train_path, config.pad_size)\n",
    "    dev = load_dataset(config.dev_path, config.pad_size)\n",
    "    test = load_dataset(config.test_path, config.pad_size)\n",
    "    return train, dev, test"
   ],
   "id": "8f608908d893a205",
   "outputs": [],
   "execution_count": 10
  },
  {
   "metadata": {
    "ExecuteTime": {
     "end_time": "2024-09-30T10:06:44.549823Z",
     "start_time": "2024-09-30T10:06:44.547156Z"
    }
   },
   "cell_type": "code",
   "source": "",
   "id": "cd637fc15567ba8b",
   "outputs": [],
   "execution_count": 10
  }
 ],
 "metadata": {
  "kernelspec": {
   "display_name": "Python 3",
   "language": "python",
   "name": "python3"
  },
  "language_info": {
   "codemirror_mode": {
    "name": "ipython",
    "version": 2
   },
   "file_extension": ".py",
   "mimetype": "text/x-python",
   "name": "python",
   "nbconvert_exporter": "python",
   "pygments_lexer": "ipython2",
   "version": "2.7.6"
  }
 },
 "nbformat": 4,
 "nbformat_minor": 5
}
