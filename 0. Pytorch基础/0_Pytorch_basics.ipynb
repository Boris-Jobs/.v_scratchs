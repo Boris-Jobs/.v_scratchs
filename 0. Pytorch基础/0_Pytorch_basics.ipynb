{
 "cells": [
  {
   "metadata": {},
   "cell_type": "markdown",
   "source": [
    "两个好用的命令:\n",
    "```\n",
    "dir()\n",
    "help()\n",
    "```\n",
    "`help()`和`??`是两种显示方式."
   ],
   "id": "c743412a0c567838"
  },
  {
   "metadata": {
    "ExecuteTime": {
     "end_time": "2024-09-01T07:01:44.688629Z",
     "start_time": "2024-09-01T07:01:44.666671Z"
    }
   },
   "cell_type": "code",
   "source": [
    "import torch\n",
    "# print(dir(torch))\n",
    "# print(dir(torch.nn.functional))\n",
    "print(help(torch.cuda.is_available))\n",
    "torch.cuda.is_available??"
   ],
   "id": "initial_id",
   "outputs": [
    {
     "name": "stdout",
     "output_type": "stream",
     "text": [
      "Help on function is_available in module torch.cuda:\n",
      "\n",
      "is_available() -> bool\n",
      "    Return a bool indicating if CUDA is currently available.\n",
      "\n",
      "None\n"
     ]
    }
   ],
   "execution_count": 14
  }
 ],
 "metadata": {
  "kernelspec": {
   "display_name": "Python 3",
   "language": "python",
   "name": "python3"
  },
  "language_info": {
   "codemirror_mode": {
    "name": "ipython",
    "version": 2
   },
   "file_extension": ".py",
   "mimetype": "text/x-python",
   "name": "python",
   "nbconvert_exporter": "python",
   "pygments_lexer": "ipython2",
   "version": "2.7.6"
  }
 },
 "nbformat": 4,
 "nbformat_minor": 5
}
